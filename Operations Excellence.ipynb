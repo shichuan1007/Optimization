{
 "cells": [
  {
   "cell_type": "markdown",
   "metadata": {
    "colab_type": "text",
    "id": "f3nPe0Lpd0hK"
   },
   "source": [
    "# Operations Excellence"
   ]
  },
  {
   "cell_type": "markdown",
   "metadata": {
    "colab_type": "text",
    "id": "PnftlzJceKKK"
   },
   "source": [
    "You operate two plants, i.e., A and B. Each plant makes two products, “standard” and “deluxe”. A unit of\n",
    "standard gives a profit contribution of 10, while a unit of deluxe gives a profit contribution of 15.\n",
    "Each plant uses two processes, grinding and polishing, for producing its products. Plant A has a grinding\n",
    "capacity of 80 hours per week and polishing capacity of 60 hours per week. For plant B, these capacities are 60\n",
    "and 75 hours per week, respectively.\n",
    "The grinding and polishing times in hours for a unit of each type of product in each factory are given in the\n",
    "tables below"
   ]
  },
  {
   "cell_type": "markdown",
   "metadata": {
    "colab_type": "text",
    "id": "ic8LovwzfckC"
   },
   "source": [
    "*For Plant A*\n",
    "\n",
    "|   | Standard | Deluxe       \n",
    "| :---:|:---: |\n",
    "| Grinding|4 | 2|\n",
    "| Polishing|2 | 5|\n",
    "\n",
    "*For Plant B*\n",
    "\n",
    "|   | Standard | Deluxe       \n",
    "| :---:|:---: |\n",
    "| Grinding|5 | 3|\n",
    "| Polishing|5 | 6|\n"
   ]
  },
  {
   "cell_type": "markdown",
   "metadata": {
    "colab_type": "text",
    "id": "L1RqEGHigjTO"
   },
   "source": [
    "It is possible, for example, that plant B has older machines than plant A, resulting in higher unit processing\n",
    "times. In addition, each unit of each product uses 4 kg of a raw material, which we refer to as raw. The\n",
    "company has 120 kg of raw available per week. To start with, we will assume that plant A is allocated 75 kg of\n",
    "raw per week and plant B the remaining 45 kg per week. Each plant can build a very simple linear programming\n",
    "model to maximize its profit contribution. "
   ]
  },
  {
   "cell_type": "markdown",
   "metadata": {
    "colab_type": "text",
    "id": "JeLXYt0aWEXO"
   },
   "source": [
    "## Optimization Problem\n",
    "Find the optimal advertisement placement to maximize the revenue while meeting the promised page views.  \n",
    "\n",
    "### Decision variables\n",
    "Let $i$ be the index of the plant:\n",
    "<br>$i = 1$ is Plant A\n",
    "<br>$i = 2$ is Plant B\n",
    "<br>\n",
    "<br>Let $j$ be the index of the product:\n",
    "<br>$j = 1$ is Standard\n",
    "<br>$j = 2$ is Deluxe\n",
    "<br>\n",
    "<br>For example, $x_{11}$represents the Standard product in the Plant A.\n",
    "\n",
    "### Objective\n",
    "\\begin{equation}\n",
    "Objective{A} = x_{11} * 10 + x_{12} * 15 \n",
    "\\end{equation}\n",
    "\n",
    "\\begin{equation}\n",
    "Objective{B} = + x_{21} * 10+x_{22} * 15 \n",
    "\\end{equation}\n",
    "\n",
    "\\begin{equation}\n",
    "Objective {AB} = x_{11} * 10 + x_{12} * 15 + x_{21} * 10+x_{22} * 15\n",
    "\\end{equation}\n",
    "\n",
    "### Constraints\n",
    "The constraint for the grinding, polishing hours, and raw materials are as below:  \n",
    "\\begin{align}\n",
    "x_{11}*4 + x_{12}*2 &\\leq 80\\\\\n",
    "x_{11}*2 + x_{12}*5 &\\leq 60\\\\\n",
    "x_{21}*5 + x_{22}*3 &\\leq 60\\\\\n",
    "x_{21}*5 + x_{22}*6 &\\leq 75\\\\\n",
    "x_{11}*4 + x_{12}*4 &\\leq 75\\\\\n",
    "x_{21}*4 + x_{22}*4 &\\leq 45\\\\\n",
    "x_{11}*4 + x_{12}*4 + x_{21}*4 + x_{22}*4 &\\leq 120\\\\\n",
    "\\end{align}  \n",
    "Non negative contraint:  \n",
    "\\begin{align}\n",
    "x_{ij}&\\geq 0\\\\\n",
    "\\end{align}  "
   ]
  },
  {
   "cell_type": "code",
   "execution_count": 0,
   "metadata": {
    "colab": {
     "autoexec": {
      "startup": false,
      "wait_interval": 0
     }
    },
    "colab_type": "code",
    "collapsed": true,
    "id": "VmKFBawWgkSi"
   },
   "outputs": [],
   "source": [
    "# Define integer variables\n",
    "\n",
    "x11 = cvx.Int()\n",
    "x12 = cvx.Int()\n",
    "x21 = cvx.Int()\n",
    "x22 = cvx.Int()\n",
    "\n",
    "# Define constraints\n",
    "\n",
    "c1 = x11*4 + x12*2 <= 80\n",
    "c2 = x11*2 + x12*5 <= 60\n",
    "c3 = x21*5 + x22*3 <= 60\n",
    "c4 = x21*5 + x22*6 <= 75\n",
    "c5 = x11*4 + x12*4 <= 75\n",
    "c6 = x21*4 + x22*4 <= 45\n",
    "c7 = x11*4 + x12*4 + x21*4 + x22*4 <= 120\n",
    "\n",
    "c8 = x11 >= 0\n",
    "c9 = x12 >= 0\n",
    "c10 = x21 >= 0\n",
    "c11 = x22 >= 0\n",
    "\n",
    "con_A = [c1, c2, c5, c8, c9]\n",
    "con_B = [c3, c4, c6, c10, c11]\n",
    "con_AB = [c1, c2, c3, c4, c7, c8, c9, c10, c11]\n",
    "\n",
    "# Objective Questions\n",
    "\n",
    "obj_A = x11*10 + x12*15\n",
    "obj_B = x21*10 + x22*15\n",
    "obj_AB = x11*10 + x12*15 + x21*10 + x22*15\n",
    "\n",
    "objective_A = cvx.Maximize(obj_A)\n",
    "objective_B = cvx.Maximize(obj_B)\n",
    "objective_AB = cvx.Maximize(obj_AB)"
   ]
  },
  {
   "cell_type": "markdown",
   "metadata": {
    "colab_type": "text",
    "id": "4T39X4oyhIQ3"
   },
   "source": [
    "### Provide the optimal solutions and profit levels for each factory. Give the values of the decision variables and the optimal objective function value."
   ]
  },
  {
   "cell_type": "code",
   "execution_count": 72,
   "metadata": {
    "colab": {
     "autoexec": {
      "startup": false,
      "wait_interval": 0
     },
     "base_uri": "https://localhost:8080/",
     "height": 68
    },
    "colab_type": "code",
    "executionInfo": {
     "elapsed": 376,
     "status": "ok",
     "timestamp": 1525195712640,
     "user": {
      "displayName": "Stone Shi",
      "photoUrl": "https://lh3.googleusercontent.com/a/default-user=s128",
      "userId": "100706886126694343654"
     },
     "user_tz": 420
    },
    "id": "bPlnATx2hMUF",
    "outputId": "fad7abeb-f853-46ba-887f-8bb37b37dd10"
   },
   "outputs": [
    {
     "name": "stdout",
     "output_type": "stream",
     "text": [
      "The optimal profit for Plant A is 220.0\n",
      "The number of standard product in Plant A is 10.0\n",
      "The number of deluxe product in Plant A is 8.0\n"
     ]
    }
   ],
   "source": [
    "# Plant A\n",
    "prob_A = cvx.Problem(objective_A, con_A)\n",
    "result_A = prob_A.solve()\n",
    "print(\"The optimal profit for Plant A is {}\".format(round(prob_A.value,2)))\n",
    "print(\"The number of standard product in Plant A is {}\".format(round(x11.value,0)))\n",
    "print(\"The number of deluxe product in Plant A is {}\".format(round(x12.value,0)))"
   ]
  },
  {
   "cell_type": "code",
   "execution_count": 73,
   "metadata": {
    "colab": {
     "autoexec": {
      "startup": false,
      "wait_interval": 0
     },
     "base_uri": "https://localhost:8080/",
     "height": 68
    },
    "colab_type": "code",
    "executionInfo": {
     "elapsed": 390,
     "status": "ok",
     "timestamp": 1525195720452,
     "user": {
      "displayName": "Stone Shi",
      "photoUrl": "https://lh3.googleusercontent.com/a/default-user=s128",
      "userId": "100706886126694343654"
     },
     "user_tz": 420
    },
    "id": "OZin-uV4jKnO",
    "outputId": "45e1a155-c245-4299-9d7a-59cdc2a4f9ce"
   },
   "outputs": [
    {
     "name": "stdout",
     "output_type": "stream",
     "text": [
      "The optimal profit for Plant B is 165.0\n",
      "The number of standard product in Plant B is 0.0\n",
      "The number of deluxe product in Plant B is 11.0\n"
     ]
    }
   ],
   "source": [
    "# Plant B\n",
    "prob_B = cvx.Problem(objective_B, con_B)\n",
    "result_B = prob_B.solve()\n",
    "print(\"The optimal profit for Plant B is {}\".format(round(prob_B.value,2)))\n",
    "print(\"The number of standard product in Plant B is {}\".format(round(x21.value,0)))\n",
    "print(\"The number of deluxe product in Plant B is {}\".format(round(x22.value,0)))"
   ]
  },
  {
   "cell_type": "markdown",
   "metadata": {
    "colab_type": "text",
    "id": "J5SNCr43hM1u"
   },
   "source": [
    "### Write the optimization model for the joint optimization of Plant A and B, and provide the optimal solution and profit levels."
   ]
  },
  {
   "cell_type": "code",
   "execution_count": 80,
   "metadata": {
    "colab": {
     "autoexec": {
      "startup": false,
      "wait_interval": 0
     },
     "base_uri": "https://localhost:8080/",
     "height": 102
    },
    "colab_type": "code",
    "executionInfo": {
     "elapsed": 327,
     "status": "ok",
     "timestamp": 1525196134291,
     "user": {
      "displayName": "Stone Shi",
      "photoUrl": "https://lh3.googleusercontent.com/a/default-user=s128",
      "userId": "100706886126694343654"
     },
     "user_tz": 420
    },
    "id": "-paKcDXlhWaw",
    "outputId": "045636e9-caf7-46ce-e1a1-c41717fed1b6"
   },
   "outputs": [
    {
     "name": "stdout",
     "output_type": "stream",
     "text": [
      "The optimal profit for Plant A and B is 400.0\n",
      "The number of standard product in Plant A is 10.0\n",
      "The number of deluxe product in Plant A is 8.0\n",
      "The number of standard product in Plant B is -0.0\n",
      "The number of deluxe product in Plant B is 12.0\n"
     ]
    }
   ],
   "source": [
    "prob_AB = cvx.Problem(objective_AB, con_AB)\n",
    "result_AB = prob_AB.solve()\n",
    "print(\"The optimal profit for Plant A and B is {}\".format(round(prob_AB.value,2)))\n",
    "print(\"The number of standard product in Plant A is {}\".format(round(x11.value,0)))\n",
    "print(\"The number of deluxe product in Plant A is {}\".format(round(x12.value,0)))\n",
    "print(\"The number of standard product in Plant B is {}\".format(round(x21.value,0)))\n",
    "print(\"The number of deluxe product in Plant B is {}\".format(round(x22.value,0)))"
   ]
  },
  {
   "cell_type": "markdown",
   "metadata": {
    "colab_type": "text",
    "id": "EwG505E8k55x"
   },
   "source": [
    "### Comment on the results"
   ]
  },
  {
   "cell_type": "markdown",
   "metadata": {
    "colab_type": "text",
    "id": "tvr2vEVGuRbL"
   },
   "source": [
    "Fromt the result, we can see that the optimal profit in question is 400, which is greater than the combination of separated profits of plant A and B. Therefore, we should use the joint strategy."
   ]
  },
  {
   "cell_type": "markdown",
   "metadata": {
    "colab_type": "text",
    "id": "3hnGP-U-v4V3"
   },
   "source": [
    "### Recommendations to improve the firm’s operations"
   ]
  },
  {
   "cell_type": "markdown",
   "metadata": {
    "colab_type": "text",
    "id": "wLmnQZ7qx9Gu"
   },
   "source": [
    "In order to make more profit, I would recommendation the CEO to choose the strategy of joint plant A and B because of the more effectiveness and less lost for raw material allocation. For example, if we allocate 75kg raw materials to plant A and 45kg raw materials to plant B, there would be 3 kg waste from plant A. But if we try to implement the joint strategy, the allocation plan would be 72kg raw materials to plant A and 48kg raw materials to plant B, which avoids the waste. Consequently, I would recommend the joint strategy for the CEO."
   ]
  }
 ],
 "metadata": {
  "kernelspec": {
   "display_name": "Python 3",
   "language": "python",
   "name": "python3"
  },
  "language_info": {
   "codemirror_mode": {
    "name": "ipython",
    "version": 3
   },
   "file_extension": ".py",
   "mimetype": "text/x-python",
   "name": "python",
   "nbconvert_exporter": "python",
   "pygments_lexer": "ipython3",
   "version": "3.6.5"
  },
  "toc": {
   "nav_menu": {},
   "number_sections": true,
   "sideBar": true,
   "skip_h1_title": false,
   "title_cell": "Table of Contents",
   "title_sidebar": "Contents",
   "toc_cell": false,
   "toc_position": {},
   "toc_section_display": true,
   "toc_window_display": false
  }
 },
 "nbformat": 4,
 "nbformat_minor": 2
}
