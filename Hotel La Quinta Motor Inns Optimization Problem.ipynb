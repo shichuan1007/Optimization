{
 "cells": [
  {
   "cell_type": "markdown",
   "metadata": {
    "colab_type": "text",
    "id": "GwQ4FhuKv-0K"
   },
   "source": [
    "# Hotel La Quinta Motor Inns (LQM) "
   ]
  },
  {
   "cell_type": "markdown",
   "metadata": {
    "colab_type": "text",
    "id": "AjHtV-t8wSpU"
   },
   "source": [
    "LQM is a middle-sized hotel chain that is considering expanding to more locations. LQM used data on 75\n",
    "existing inn locations to build a linear regression model to predict “Profitability”, computed at the operating\n",
    "margin, or earnings before interest and taxes divided by total revenue. They tried many independent variables\n",
    "and came up with the final model"
   ]
  },
  {
   "cell_type": "markdown",
   "metadata": {
    "colab_type": "text",
    "id": "EOq1JSN4wZOz"
   },
   "source": [
    "Profitability = 39.05 - (5.41 $*$ State Population per Inn) + (5.86 $*$ Price of the Inn) - (3.09 $*$ Square Root of the Median Income in This Area) + (1.75 $*$ College Student in this Area)"
   ]
  },
  {
   "cell_type": "markdown",
   "metadata": {
    "colab_type": "text",
    "id": "QkaxdEdZ0Mr0"
   },
   "source": [
    "## According to the regression equation given above, which variable positively affect Profitability? Which variable negatively affect Profitability? Does this intuitively make sense? Why?"
   ]
  },
  {
   "cell_type": "markdown",
   "metadata": {
    "colab_type": "text",
    "id": "JLN3HZPy0bg-"
   },
   "source": [
    "Variables of \"State Population per Inn\" and \"College Student in this Area\" positively affect profitability, while the other variables, \"State Population per Inn\" and \"Square Root of the Median Income in This Area\", gegatively affect profitability. \n",
    "\n",
    "I think with the variable price of the inn goes up, the profit may go up first and then drop down. Additionally, college student in this area. Meanwhile, state population per inn may have positive contribution to the profit, since more people in a state, more people may tend to book inns.  "
   ]
  },
  {
   "cell_type": "markdown",
   "metadata": {
    "colab_type": "text",
    "id": "R0lfPMnT0Oml"
   },
   "source": [
    "### Using this regression equation, LQM created a spreadsheet model to predict profitability. LQM collected data for several locations in California, which is provided in the excel spreadsheet on Canvas “LQM”. Using this spreadsheet, compute the profitability for each hotel. Which one has the highest profitability? Which one has the lowest profitability?"
   ]
  },
  {
   "cell_type": "code",
   "execution_count": 106,
   "metadata": {
    "colab": {
     "autoexec": {
      "startup": false,
      "wait_interval": 0
     },
     "base_uri": "https://localhost:8080/",
     "height": 106,
     "resources": {
      "http://localhost:8080/nbextensions/google.colab/files.js": {
       "data": "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",
       "headers": [
        [
         "content-type",
         "application/javascript"
        ]
       ],
       "ok": true,
       "status": 200,
       "status_text": ""
      }
     }
    },
    "colab_type": "code",
    "executionInfo": {
     "elapsed": 6488,
     "status": "ok",
     "timestamp": 1525198866724,
     "user": {
      "displayName": "Stone Shi",
      "photoUrl": "https://lh3.googleusercontent.com/a/default-user=s128",
      "userId": "100706886126694343654"
     },
     "user_tz": 420
    },
    "id": "ffNtdHQowY3V",
    "outputId": "20590b5d-18b9-45f0-8036-17a46d14cadf"
   },
   "outputs": [
    {
     "data": {
      "text/html": [
       "\n",
       "     <input type=\"file\" id=\"files-60adc01e-6db9-480f-a1b5-51301787399b\" name=\"files[]\" multiple disabled />\n",
       "     <output id=\"result-60adc01e-6db9-480f-a1b5-51301787399b\">\n",
       "      Upload widget is only available when the cell has been executed in the\n",
       "      current browser session. Please rerun this cell to enable.\n",
       "      </output>\n",
       "      <script src=\"/nbextensions/google.colab/files.js\"></script> "
      ],
      "text/plain": [
       "<IPython.core.display.HTML object>"
      ]
     },
     "metadata": {
      "tags": []
     },
     "output_type": "display_data"
    },
    {
     "name": "stdout",
     "output_type": "stream",
     "text": [
      "Saving LQM.csv to LQM (3).csv\n"
     ]
    },
    {
     "data": {
      "text/plain": [
       "{'LQM.csv': b'Hotel,Location,Price,Price (normalized),Square Root of Median Income (normalized),College Students in Area (normalized),State Population Per Inn (normalized)\\r\\n1,\"Eureka, California\",2925000,-0.3,-0.81,-0.54,-1\\r\\n2,\"Fresno, California\",10000000,1.7,-0.41,0.31,-0.47\\r\\n3,\"Fresno, California\",3750000,-0.07,-0.41,0.31,-0.47\\r\\n4,\"Fresno, California\",3500000,-0.14,-0.41,0.31,-0.47\\r\\n5,\"Fresno, California\",325000,-1.04,-0.41,0.31,-0.47\\r\\n6,\"Long Beach, California\",8950000,1.4,0.66,0.48,-0.56\\r\\n7,\"Los Angeles, California\",1950000,-0.58,0.17,3.11,3.11\\r\\n8,\"Los Angeles, California\",1750000,-0.63,0.17,3.11,3.11\\r\\n9,\"Los Angeles, California\",4900000,0.26,0.17,3.11,3.11\\r\\n10,\"South Lake Tahoe, California\",1650000,-0.66,-0.79,-0.59,-0.43\\r\\n11,\"South Lake Tahoe, California\",1125000,-0.81,-0.79,-0.59,-0.43\\r\\n12,\"South Lake Tahoe, California\",2500000,-0.42,-0.79,-0.59,-0.43\\r\\n13,\"South Lake Tahoe, California\",1975000,-0.57,-0.79,-0.59,-0.43\\r\\n14,\"South Lake Tahoe, California\",3750000,-0.07,-0.79,-0.59,-0.43\\r\\n15,\"South Lake Tahoe, California\",1475000,-0.71,-0.79,-0.59,-0.43\\r\\n16,\"South Lake Tahoe, California\",750000,-0.92,-0.79,-0.59,-0.43'}"
      ]
     },
     "execution_count": 106,
     "metadata": {
      "tags": []
     },
     "output_type": "execute_result"
    }
   ],
   "source": [
    "from google.colab import files\n",
    "files.upload()"
   ]
  },
  {
   "cell_type": "code",
   "execution_count": 1,
   "metadata": {
    "colab": {
     "autoexec": {
      "startup": false,
      "wait_interval": 0
     },
     "base_uri": "https://localhost:8080/",
     "height": 122
    },
    "colab_type": "code",
    "executionInfo": {
     "elapsed": 2821,
     "status": "ok",
     "timestamp": 1525196804241,
     "user": {
      "displayName": "Stone Shi",
      "photoUrl": "https://lh3.googleusercontent.com/a/default-user=s128",
      "userId": "100706886126694343654"
     },
     "user_tz": 420
    },
    "id": "ZrL-26wf0Dul",
    "outputId": "b3b71ac7-c9ae-4412-8676-bd298fddb4a0"
   },
   "outputs": [],
   "source": [
    "#! pip install xlrd"
   ]
  },
  {
   "cell_type": "code",
   "execution_count": 107,
   "metadata": {
    "colab": {
     "autoexec": {
      "startup": false,
      "wait_interval": 0
     },
     "base_uri": "https://localhost:8080/",
     "height": 306
    },
    "colab_type": "code",
    "executionInfo": {
     "elapsed": 497,
     "status": "ok",
     "timestamp": 1525198874698,
     "user": {
      "displayName": "Stone Shi",
      "photoUrl": "https://lh3.googleusercontent.com/a/default-user=s128",
      "userId": "100706886126694343654"
     },
     "user_tz": 420
    },
    "id": "gz8aHKaG0GG3",
    "outputId": "88d6b60f-5c81-470b-8154-22c5c8081728"
   },
   "outputs": [
    {
     "data": {
      "text/html": [
       "<div>\n",
       "<style scoped>\n",
       "    .dataframe tbody tr th:only-of-type {\n",
       "        vertical-align: middle;\n",
       "    }\n",
       "\n",
       "    .dataframe tbody tr th {\n",
       "        vertical-align: top;\n",
       "    }\n",
       "\n",
       "    .dataframe thead th {\n",
       "        text-align: right;\n",
       "    }\n",
       "</style>\n",
       "<table border=\"1\" class=\"dataframe\">\n",
       "  <thead>\n",
       "    <tr style=\"text-align: right;\">\n",
       "      <th></th>\n",
       "      <th>Hotel</th>\n",
       "      <th>Location</th>\n",
       "      <th>Price</th>\n",
       "      <th>Price (normalized)</th>\n",
       "      <th>Square Root of Median Income (normalized)</th>\n",
       "      <th>College Students in Area (normalized)</th>\n",
       "      <th>State Population Per Inn (normalized)</th>\n",
       "    </tr>\n",
       "  </thead>\n",
       "  <tbody>\n",
       "    <tr>\n",
       "      <th>0</th>\n",
       "      <td>1</td>\n",
       "      <td>Eureka, California</td>\n",
       "      <td>2925000</td>\n",
       "      <td>-0.30</td>\n",
       "      <td>-0.81</td>\n",
       "      <td>-0.54</td>\n",
       "      <td>-1.00</td>\n",
       "    </tr>\n",
       "    <tr>\n",
       "      <th>1</th>\n",
       "      <td>2</td>\n",
       "      <td>Fresno, California</td>\n",
       "      <td>10000000</td>\n",
       "      <td>1.70</td>\n",
       "      <td>-0.41</td>\n",
       "      <td>0.31</td>\n",
       "      <td>-0.47</td>\n",
       "    </tr>\n",
       "    <tr>\n",
       "      <th>2</th>\n",
       "      <td>3</td>\n",
       "      <td>Fresno, California</td>\n",
       "      <td>3750000</td>\n",
       "      <td>-0.07</td>\n",
       "      <td>-0.41</td>\n",
       "      <td>0.31</td>\n",
       "      <td>-0.47</td>\n",
       "    </tr>\n",
       "    <tr>\n",
       "      <th>3</th>\n",
       "      <td>4</td>\n",
       "      <td>Fresno, California</td>\n",
       "      <td>3500000</td>\n",
       "      <td>-0.14</td>\n",
       "      <td>-0.41</td>\n",
       "      <td>0.31</td>\n",
       "      <td>-0.47</td>\n",
       "    </tr>\n",
       "    <tr>\n",
       "      <th>4</th>\n",
       "      <td>5</td>\n",
       "      <td>Fresno, California</td>\n",
       "      <td>325000</td>\n",
       "      <td>-1.04</td>\n",
       "      <td>-0.41</td>\n",
       "      <td>0.31</td>\n",
       "      <td>-0.47</td>\n",
       "    </tr>\n",
       "  </tbody>\n",
       "</table>\n",
       "</div>"
      ],
      "text/plain": [
       "   Hotel            Location     Price  Price (normalized)  \\\n",
       "0      1  Eureka, California   2925000               -0.30   \n",
       "1      2  Fresno, California  10000000                1.70   \n",
       "2      3  Fresno, California   3750000               -0.07   \n",
       "3      4  Fresno, California   3500000               -0.14   \n",
       "4      5  Fresno, California    325000               -1.04   \n",
       "\n",
       "   Square Root of Median Income (normalized)  \\\n",
       "0                                      -0.81   \n",
       "1                                      -0.41   \n",
       "2                                      -0.41   \n",
       "3                                      -0.41   \n",
       "4                                      -0.41   \n",
       "\n",
       "   College Students in Area (normalized)  \\\n",
       "0                                  -0.54   \n",
       "1                                   0.31   \n",
       "2                                   0.31   \n",
       "3                                   0.31   \n",
       "4                                   0.31   \n",
       "\n",
       "   State Population Per Inn (normalized)  \n",
       "0                                  -1.00  \n",
       "1                                  -0.47  \n",
       "2                                  -0.47  \n",
       "3                                  -0.47  \n",
       "4                                  -0.47  "
      ]
     },
     "execution_count": 107,
     "metadata": {
      "tags": []
     },
     "output_type": "execute_result"
    }
   ],
   "source": [
    "lqm = pd.read_csv(\"LQM.csv\")\n",
    "lqm.head()"
   ]
  },
  {
   "cell_type": "code",
   "execution_count": 108,
   "metadata": {
    "colab": {
     "autoexec": {
      "startup": false,
      "wait_interval": 0
     },
     "base_uri": "https://localhost:8080/",
     "height": 306
    },
    "colab_type": "code",
    "executionInfo": {
     "elapsed": 808,
     "status": "ok",
     "timestamp": 1525198878274,
     "user": {
      "displayName": "Stone Shi",
      "photoUrl": "https://lh3.googleusercontent.com/a/default-user=s128",
      "userId": "100706886126694343654"
     },
     "user_tz": 420
    },
    "id": "dDBuvCxU4uQW",
    "outputId": "0b9d0ea8-d0fb-4f96-efc9-9b9113984035"
   },
   "outputs": [
    {
     "data": {
      "text/html": [
       "<div>\n",
       "<style scoped>\n",
       "    .dataframe tbody tr th:only-of-type {\n",
       "        vertical-align: middle;\n",
       "    }\n",
       "\n",
       "    .dataframe tbody tr th {\n",
       "        vertical-align: top;\n",
       "    }\n",
       "\n",
       "    .dataframe thead th {\n",
       "        text-align: right;\n",
       "    }\n",
       "</style>\n",
       "<table border=\"1\" class=\"dataframe\">\n",
       "  <thead>\n",
       "    <tr style=\"text-align: right;\">\n",
       "      <th></th>\n",
       "      <th>Hotel</th>\n",
       "      <th>Location</th>\n",
       "      <th>Price</th>\n",
       "      <th>Price (normalized)</th>\n",
       "      <th>Square Root of Median Income (normalized)</th>\n",
       "      <th>College Students in Area (normalized)</th>\n",
       "      <th>State Population Per Inn (normalized)</th>\n",
       "      <th>Profitability</th>\n",
       "    </tr>\n",
       "  </thead>\n",
       "  <tbody>\n",
       "    <tr>\n",
       "      <th>1</th>\n",
       "      <td>2</td>\n",
       "      <td>Fresno, California</td>\n",
       "      <td>10000000</td>\n",
       "      <td>1.70</td>\n",
       "      <td>-0.41</td>\n",
       "      <td>0.31</td>\n",
       "      <td>-0.47</td>\n",
       "      <td>53.3641</td>\n",
       "    </tr>\n",
       "    <tr>\n",
       "      <th>5</th>\n",
       "      <td>6</td>\n",
       "      <td>Long Beach, California</td>\n",
       "      <td>8950000</td>\n",
       "      <td>1.40</td>\n",
       "      <td>0.66</td>\n",
       "      <td>0.48</td>\n",
       "      <td>-0.56</td>\n",
       "      <td>49.0842</td>\n",
       "    </tr>\n",
       "    <tr>\n",
       "      <th>0</th>\n",
       "      <td>1</td>\n",
       "      <td>Eureka, California</td>\n",
       "      <td>2925000</td>\n",
       "      <td>-0.30</td>\n",
       "      <td>-0.81</td>\n",
       "      <td>-0.54</td>\n",
       "      <td>-1.00</td>\n",
       "      <td>44.2599</td>\n",
       "    </tr>\n",
       "    <tr>\n",
       "      <th>2</th>\n",
       "      <td>3</td>\n",
       "      <td>Fresno, California</td>\n",
       "      <td>3750000</td>\n",
       "      <td>-0.07</td>\n",
       "      <td>-0.41</td>\n",
       "      <td>0.31</td>\n",
       "      <td>-0.47</td>\n",
       "      <td>42.9919</td>\n",
       "    </tr>\n",
       "    <tr>\n",
       "      <th>3</th>\n",
       "      <td>4</td>\n",
       "      <td>Fresno, California</td>\n",
       "      <td>3500000</td>\n",
       "      <td>-0.14</td>\n",
       "      <td>-0.41</td>\n",
       "      <td>0.31</td>\n",
       "      <td>-0.47</td>\n",
       "      <td>42.5817</td>\n",
       "    </tr>\n",
       "  </tbody>\n",
       "</table>\n",
       "</div>"
      ],
      "text/plain": [
       "   Hotel                Location     Price  Price (normalized)  \\\n",
       "1      2      Fresno, California  10000000                1.70   \n",
       "5      6  Long Beach, California   8950000                1.40   \n",
       "0      1      Eureka, California   2925000               -0.30   \n",
       "2      3      Fresno, California   3750000               -0.07   \n",
       "3      4      Fresno, California   3500000               -0.14   \n",
       "\n",
       "   Square Root of Median Income (normalized)  \\\n",
       "1                                      -0.41   \n",
       "5                                       0.66   \n",
       "0                                      -0.81   \n",
       "2                                      -0.41   \n",
       "3                                      -0.41   \n",
       "\n",
       "   College Students in Area (normalized)  \\\n",
       "1                                   0.31   \n",
       "5                                   0.48   \n",
       "0                                  -0.54   \n",
       "2                                   0.31   \n",
       "3                                   0.31   \n",
       "\n",
       "   State Population Per Inn (normalized)  Profitability  \n",
       "1                                  -0.47        53.3641  \n",
       "5                                  -0.56        49.0842  \n",
       "0                                  -1.00        44.2599  \n",
       "2                                  -0.47        42.9919  \n",
       "3                                  -0.47        42.5817  "
      ]
     },
     "execution_count": 108,
     "metadata": {
      "tags": []
     },
     "output_type": "execute_result"
    }
   ],
   "source": [
    "lqm['Profitability'] = 39.05-(5.41 * lqm['State Population Per Inn (normalized)']) + \\\n",
    "(5.86 * lqm['Price (normalized)'])-(3.09 * lqm['Square Root of Median Income (normalized)'])+ \\\n",
    "(1.75* lqm['College Students in Area (normalized)'])\n",
    "\n",
    "lqm = lqm.sort_values ( by=['Profitability'], ascending=False)\n",
    "lqm.head()"
   ]
  },
  {
   "cell_type": "code",
   "execution_count": 109,
   "metadata": {
    "colab": {
     "autoexec": {
      "startup": false,
      "wait_interval": 0
     },
     "base_uri": "https://localhost:8080/",
     "height": 187
    },
    "colab_type": "code",
    "executionInfo": {
     "elapsed": 336,
     "status": "ok",
     "timestamp": 1525198881816,
     "user": {
      "displayName": "Stone Shi",
      "photoUrl": "https://lh3.googleusercontent.com/a/default-user=s128",
      "userId": "100706886126694343654"
     },
     "user_tz": 420
    },
    "id": "ufzQH2G95LZU",
    "outputId": "1fcbbbde-f931-4999-abaf-901fc6193ac7"
   },
   "outputs": [
    {
     "name": "stdout",
     "output_type": "stream",
     "text": [
      "The highest profitability LQM hotel in CA is :\n"
     ]
    },
    {
     "data": {
      "text/plain": [
       "Hotel                                                         2\n",
       "Location                                     Fresno, California\n",
       "Price                                                  10000000\n",
       "Price (normalized)                                          1.7\n",
       "Square Root of Median Income (normalized)                 -0.41\n",
       "College Students in Area (normalized)                      0.31\n",
       "State Population Per Inn (normalized)                     -0.47\n",
       "Profitability                                           53.3641\n",
       "Name: 1, dtype: object"
      ]
     },
     "execution_count": 109,
     "metadata": {
      "tags": []
     },
     "output_type": "execute_result"
    }
   ],
   "source": [
    "print(\"The highest profitability LQM hotel in CA is :\")\n",
    "lqm.iloc[0,:]"
   ]
  },
  {
   "cell_type": "code",
   "execution_count": 110,
   "metadata": {
    "colab": {
     "autoexec": {
      "startup": false,
      "wait_interval": 0
     },
     "base_uri": "https://localhost:8080/",
     "height": 187
    },
    "colab_type": "code",
    "executionInfo": {
     "elapsed": 453,
     "status": "ok",
     "timestamp": 1525198884580,
     "user": {
      "displayName": "Stone Shi",
      "photoUrl": "https://lh3.googleusercontent.com/a/default-user=s128",
      "userId": "100706886126694343654"
     },
     "user_tz": 420
    },
    "id": "2wZ6_zYl5a_S",
    "outputId": "ea24039d-f5d3-49c2-c5d0-5c8065db6f92"
   },
   "outputs": [
    {
     "name": "stdout",
     "output_type": "stream",
     "text": [
      "The lowest profitability LQM hotel in CA is :\n"
     ]
    },
    {
     "data": {
      "text/plain": [
       "Hotel                                                              8\n",
       "Location                                     Los Angeles, California\n",
       "Price                                                        1750000\n",
       "Price (normalized)                                             -0.63\n",
       "Square Root of Median Income (normalized)                       0.17\n",
       "College Students in Area (normalized)                           3.11\n",
       "State Population Per Inn (normalized)                           3.11\n",
       "Profitability                                                23.4503\n",
       "Name: 7, dtype: object"
      ]
     },
     "execution_count": 110,
     "metadata": {
      "tags": []
     },
     "output_type": "execute_result"
    }
   ],
   "source": [
    "print(\"The lowest profitability LQM hotel in CA is :\")\n",
    "lqm.iloc[-1,:]"
   ]
  },
  {
   "cell_type": "markdown",
   "metadata": {
    "colab_type": "text",
    "id": "dWX9kj-q0Ykw"
   },
   "source": [
    "### LQM has a budget of 10 million to spend on hotels. Suppose we used a “greedy” approach where we selected the most profitable hotels until we ran out of budget. So we would start by the most profitable, and then if we had enough budget left, we would buy the hotel we predict to be the second most profitable, and so on.\n",
    "\n",
    "####  a. Describe what we would do with this approach, i.e., which hotels would we purchase?\n",
    "\n",
    "####  b. What would our total predicted profitability be? (This is the sum of the predicted profitability of all hotels we purchase.)\n",
    "\n",
    "####  c. If we are trying to maximize our total predicted profitability, is this a good approach? How about if we were trying to maximize the average predicted profitability of the hotels we select? How about if we had a budget of 20 million instead of 10 million?\n"
   ]
  },
  {
   "cell_type": "markdown",
   "metadata": {
    "colab_type": "text",
    "id": "m5vTeWxL9jT3"
   },
   "source": [
    "So the greedy approach is to buy the most profitable hotel first, then if there is enough budget, and buy the second profitable hotel."
   ]
  },
  {
   "cell_type": "code",
   "execution_count": 118,
   "metadata": {
    "colab": {
     "autoexec": {
      "startup": false,
      "wait_interval": 0
     },
     "base_uri": "https://localhost:8080/",
     "height": 68
    },
    "colab_type": "code",
    "executionInfo": {
     "elapsed": 304,
     "status": "ok",
     "timestamp": 1525199161326,
     "user": {
      "displayName": "Stone Shi",
      "photoUrl": "https://lh3.googleusercontent.com/a/default-user=s128",
      "userId": "100706886126694343654"
     },
     "user_tz": 420
    },
    "id": "e0PIukNC0dt3",
    "outputId": "d8289d1d-f7ae-4f69-a0fc-59a316dc79ce"
   },
   "outputs": [
    {
     "name": "stdout",
     "output_type": "stream",
     "text": [
      "We would buy hotel 2 with cost 10000000 and profitability 53.36409999999999\n",
      "Total cost is 10000000\n",
      "Total predicted profitability is 53.36\n"
     ]
    }
   ],
   "source": [
    "# With $10M budget\n",
    "\n",
    "sum_of_cost = 0 \n",
    "sum_of_profit = 0 \n",
    "\n",
    "for i in range (len(lqm)):\n",
    "  sum_of_cost = sum_of_cost + lqm.iloc[i,2]\n",
    "  sum_of_profit = sum_of_profit + lqm.iloc[i,-1] \n",
    "  print (\"We would buy hotel {} with cost {} and profitability {}\".format(lqm.iloc[i,0],lqm.iloc[i,2],lqm.iloc[i,-1]) )\n",
    "  if 10000000 - sum_of_cost <= 0: \n",
    "    break\n",
    "    \n",
    "print(\"Total cost is {}\".format(sum_of_cost))\n",
    "print(\"Total predicted profitability is {}\".format(round(sum_of_profit,2)))"
   ]
  },
  {
   "cell_type": "code",
   "execution_count": 119,
   "metadata": {
    "colab": {
     "autoexec": {
      "startup": false,
      "wait_interval": 0
     },
     "base_uri": "https://localhost:8080/",
     "height": 102
    },
    "colab_type": "code",
    "executionInfo": {
     "elapsed": 339,
     "status": "ok",
     "timestamp": 1525199163379,
     "user": {
      "displayName": "Stone Shi",
      "photoUrl": "https://lh3.googleusercontent.com/a/default-user=s128",
      "userId": "100706886126694343654"
     },
     "user_tz": 420
    },
    "id": "i9ehOLeL8125",
    "outputId": "bdbcc794-911d-43e9-8846-9c4dcd783911"
   },
   "outputs": [
    {
     "name": "stdout",
     "output_type": "stream",
     "text": [
      "We would buy hotel 2 with cost 10000000 and profitability 53.36409999999999\n",
      "We would buy hotel 6 with cost 8950000 and profitability 49.0842\n",
      "We would buy hotel 1 with cost 2925000 and profitability 44.25989999999999\n",
      "Total cost is 21875000\n",
      "Total predicted profitability is 146.71\n"
     ]
    }
   ],
   "source": [
    "# With $20M budget\n",
    "\n",
    "sum_of_cost = 0 \n",
    "sum_of_profit = 0 \n",
    "\n",
    "for i in range (len(lqm)):\n",
    "  sum_of_cost = sum_of_cost + lqm.iloc[i,2]\n",
    "  sum_of_profit = sum_of_profit + lqm.iloc[i,-1] \n",
    "  print (\"We would buy hotel {} with cost {} and profitability {}\".format(lqm.iloc[i,0],lqm.iloc[i,2],lqm.iloc[i,-1]) )\n",
    "  if 20000000 - sum_of_cost <= 0: \n",
    "    break\n",
    "    \n",
    "print(\"Total cost is {}\".format(sum_of_cost))\n",
    "print(\"Total predicted profitability is {}\".format(round(sum_of_profit,2)))"
   ]
  },
  {
   "cell_type": "markdown",
   "metadata": {
    "colab_type": "text",
    "id": "WeKjO3DT9ML7"
   },
   "source": [
    "The greddy is not the perfact strategy to buy the hotels since it only count the local maximum profit and omit the overall maximum profit, no matter how much budget given."
   ]
  },
  {
   "cell_type": "markdown",
   "metadata": {
    "colab_type": "text",
    "id": "Gzt5X1bB0h5_"
   },
   "source": [
    "### Optimization model to select hotels given the 10 million budget."
   ]
  },
  {
   "cell_type": "markdown",
   "metadata": {
    "colab_type": "text",
    "id": "jZaMabs0-J4e"
   },
   "source": [
    "### Decision variables\n",
    "\n",
    "Let $i={1,2,3,...16}$ be in the index for the hotel such that \n",
    "$x_{1}$ = 1, means purchase hotel 1, while $x_{1}$ = 0, means not purchase hotel 1\n",
    "\n",
    "\n",
    "### Objective\n",
    "\n",
    "The objective is to maximize the profit of the purchased hotels\n",
    "\n",
    "\\begin{equation}\n",
    "Objective = \\sum_{i=1}^{16} p_{i} \\times x_{i}\n",
    "\\end{equation}\n",
    "where $p_{i}$ is the profitability of each hotel\n",
    "\n",
    "\n",
    "\n",
    "### Constraints\n",
    "\n",
    "* The budget:\n",
    "\\begin{align}\n",
    "\\sum_{i=1}^{16} c_{i} \\times x_{i} &\\leq 10000000\\\\\n",
    "\\end{align}\n",
    "where $c_{i}$ is the cost of each hotel\n",
    "\n",
    "* x can only be 0 or 1 for buy or not buy:\n",
    "\\begin{align}\n",
    "x_{i} \\in&\\{0,1\\}\n",
    "\\end{align}"
   ]
  },
  {
   "cell_type": "code",
   "execution_count": 129,
   "metadata": {
    "colab": {
     "autoexec": {
      "startup": false,
      "wait_interval": 0
     },
     "base_uri": "https://localhost:8080/",
     "height": 34
    },
    "colab_type": "code",
    "executionInfo": {
     "elapsed": 321,
     "status": "ok",
     "timestamp": 1525200721799,
     "user": {
      "displayName": "Stone Shi",
      "photoUrl": "https://lh3.googleusercontent.com/a/default-user=s128",
      "userId": "100706886126694343654"
     },
     "user_tz": 420
    },
    "id": "m1htq5lS0maY",
    "outputId": "b7c92a69-529a-48a5-eb9a-44f6889f191c"
   },
   "outputs": [
    {
     "data": {
      "text/plain": [
       "270.0496999995312"
      ]
     },
     "execution_count": 129,
     "metadata": {
      "tags": []
     },
     "output_type": "execute_result"
    }
   ],
   "source": [
    "lqm = lqm.sort_values(by=['Hotel'], ascending = True)\n",
    "\n",
    "# Define variables\n",
    "\n",
    "x = cvx.Bool(16)\n",
    "p = np.matrix(list(lqm.Profitability))\n",
    "c = np.matrix(list(lqm.Price))\n",
    "\n",
    "# Define constraints\n",
    "\n",
    "c = cvx.sum_entries(c*x) <= 10000000\n",
    "con = [c]\n",
    "\n",
    "# Define objective function\n",
    "\n",
    "obj = cvx.sum_entries(p*x)\n",
    "objective = cvx.Maximize(obj)\n",
    "\n",
    "# Solve the optimization problem\n",
    "\n",
    "prob = cvx.Problem(objective, con)\n",
    "result = prob.solve()\n",
    "\n",
    "result"
   ]
  },
  {
   "cell_type": "markdown",
   "metadata": {
    "colab_type": "text",
    "id": "DDRomIm20m-j"
   },
   "source": [
    "### LQM notices that buying too many hotels in one city is probably not a good idea and would prefer to diversify across as many cities as possible. Add constraints to your model to limit the number of hotels purchased in any city to at most 2."
   ]
  },
  {
   "cell_type": "markdown",
   "metadata": {
    "colab_type": "text",
    "id": "0f_iQmBHBqbs"
   },
   "source": [
    "#### Decision variables\n",
    "\n",
    "Let $i={1,2,3,...16}$ be in the index for the hotel such that: \n",
    "\n",
    "$x_{1}$ = 1, means purchase hotel 1, while $x_{1}$ = 0, means NOT purchase hotel 1\n",
    "\n",
    "\n",
    "#### Objective\n",
    "\n",
    "The objective is to mazimize the profit, which equals to sum of the profitability of purchased hotels\n",
    "\n",
    "\\begin{equation}\n",
    "Objective = \\sum_{i=1}^{16} p_{i} \\times x_{i}\n",
    "\\end{equation}\n",
    "where $p_{i}$ is the profitability of each hotel\n",
    "\n",
    "\n",
    "\n",
    "#### Constraints\n",
    "\n",
    "* The budget:\n",
    "\\begin{align}\n",
    "\\sum_{i=1}^{16} c_{i} \\times x_{i} &\\leq 10000000\\\\\n",
    "\\end{align}\n",
    "where $c_{i}$ is the cost of each hotel\n",
    "\n",
    "\n",
    "* x can only be 0 or 1 for buying or not buying\n",
    "\\begin{align}\n",
    "x_{i} \\in&\\{0,1\\}\n",
    "\\end{align}\n",
    "\n",
    "* Purchase at most 2 hotel for each hotel\n",
    "\n",
    "\\begin{align}\n",
    "\\sum_{i=1}^{1} x_{i} &\\leq 2\\\\\n",
    "\\sum_{i=2}^{5} x_{i} &\\leq 2\\\\\n",
    "\\sum_{i=6}^{6} x_{i} &\\leq 2\\\\\n",
    "\\sum_{i=7}^{9} x_{i} &\\leq 2\\\\\n",
    "\\sum_{i=10}^{16} x_{i} &\\leq 2\\\\\n",
    "\\end{align}"
   ]
  },
  {
   "cell_type": "code",
   "execution_count": 128,
   "metadata": {
    "colab": {
     "autoexec": {
      "startup": false,
      "wait_interval": 0
     },
     "base_uri": "https://localhost:8080/",
     "height": 34
    },
    "colab_type": "code",
    "executionInfo": {
     "elapsed": 397,
     "status": "ok",
     "timestamp": 1525200710079,
     "user": {
      "displayName": "Stone Shi",
      "photoUrl": "https://lh3.googleusercontent.com/a/default-user=s128",
      "userId": "100706886126694343654"
     },
     "user_tz": 420
    },
    "id": "KkZ8gOIJ0rNy",
    "outputId": "f51f6bd8-78c6-422f-96c7-0d41b010a858"
   },
   "outputs": [
    {
     "data": {
      "text/plain": [
       "205.71679999937308"
      ]
     },
     "execution_count": 128,
     "metadata": {
      "tags": []
     },
     "output_type": "execute_result"
    }
   ],
   "source": [
    "lqm = lqm.sort_values(by=['Hotel'], ascending = True)\n",
    "\n",
    "# Define variables\n",
    "\n",
    "x = cvx.Bool(16)\n",
    "p = np.matrix(list(lqm.Profitability))\n",
    "c = np.matrix(list(lqm.Price))\n",
    "\n",
    "# Define constraints\n",
    "\n",
    "c1 = cvx.sum_entries(c*x) <= 10000000\n",
    "c2 = cvx.sum_entries(x[0]) <= 2\n",
    "c3 = cvx.sum_entries(x[1:5]) <= 2\n",
    "c4 = cvx.sum_entries(x[5]) <= 2\n",
    "c5 = cvx.sum_entries(x[6:9]) <= 2\n",
    "c6 = cvx.sum_entries(x[9:]) <= 2\n",
    "con = [c1,c2,c3,c4,c5, c6]\n",
    "\n",
    "# Define objective functions\n",
    "\n",
    "obj = cvx.sum_entries(p*x)\n",
    "objective = cvx.Maximize(obj)\n",
    "\n",
    "# Solve the optimization problem\n",
    "\n",
    "prob = cvx.Problem(objective, con)\n",
    "result = prob.solve()\n",
    "\n",
    "result"
   ]
  },
  {
   "cell_type": "markdown",
   "metadata": {
    "colab_type": "text",
    "id": "YS-iAjqa0sh4"
   },
   "source": [
    "### Conclusion"
   ]
  },
  {
   "cell_type": "markdown",
   "metadata": {
    "colab_type": "text",
    "id": "byNHQK7BDOEK"
   },
   "source": [
    "For Regression model, like just mentioned above, when price goes up, the profitability may go up first and them drop down. Therefore, price and profitability is not a linear relationship.\n",
    "\n",
    "For optimization, the greedy way is not a good way for optimization since it only focus on the local maximum and neglect the overall maximum, which may be a greedy trap. Therefore, we should use optimization method. "
   ]
  }
 ],
 "metadata": {
  "kernelspec": {
   "display_name": "Python 3",
   "language": "python",
   "name": "python3"
  },
  "language_info": {
   "codemirror_mode": {
    "name": "ipython",
    "version": 3
   },
   "file_extension": ".py",
   "mimetype": "text/x-python",
   "name": "python",
   "nbconvert_exporter": "python",
   "pygments_lexer": "ipython3",
   "version": "3.6.5"
  },
  "toc": {
   "nav_menu": {},
   "number_sections": true,
   "sideBar": true,
   "skip_h1_title": false,
   "title_cell": "Table of Contents",
   "title_sidebar": "Contents",
   "toc_cell": false,
   "toc_position": {},
   "toc_section_display": true,
   "toc_window_display": false
  }
 },
 "nbformat": 4,
 "nbformat_minor": 2
}
